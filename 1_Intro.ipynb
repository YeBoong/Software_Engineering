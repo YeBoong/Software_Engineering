{
 "cells": [
  {
   "cell_type": "markdown",
   "metadata": {},
   "source": [
    "# 소프트웨어 공학이란?\n",
    "* 고객의 문제를 해결해 주기 위하여 **대규모**의 품질 좋은 소프트웨어 시스템을 정해진 **시간**과 **비용**으로 개발하거나 발전시키는 체계적인 프로세스(과정)"
   ]
  },
  {
   "cell_type": "markdown",
   "metadata": {},
   "source": [
    "<Br>"
   ]
  },
  {
   "cell_type": "markdown",
   "metadata": {},
   "source": [
    "# 객체지향 개념"
   ]
  },
  {
   "cell_type": "markdown",
   "metadata": {},
   "source": [
    "## 객체지향 기본 개념\n",
    "* 객체(Object)\n",
    "* 클래스(Class)\n",
    "* 메시지\n",
    "* 추상화\n",
    "* 캡슐화(Encapsulation)\n",
    "* 상속(Inheritance)\n",
    "* 다형성(Polymorphism)\n",
    "* 추상클래스와 인터페이스"
   ]
  },
  {
   "cell_type": "markdown",
   "metadata": {},
   "source": [
    "<br>"
   ]
  },
  {
   "cell_type": "markdown",
   "metadata": {},
   "source": [
    "# UML\n",
    "* 대표적인 객체지향 시스템 모델링 언어\n",
    "* http://staruml.io/"
   ]
  },
  {
   "cell_type": "markdown",
   "metadata": {},
   "source": [
    "## 구조 다이어그램\n",
    "* **클래스 다이어그램**<br>:     시스템을 구성하는 클래스들 사이의 관계 표현\n",
    "* 기타<br>:     객체 다이어그램, 복합체 구조 다이어그램, 배치 다이어그램, 컴포넌트 다이어그램, 패키지 다이어그램"
   ]
  },
  {
   "cell_type": "markdown",
   "metadata": {},
   "source": [
    "## 행위 다이어그램\n",
    "* **Activity 다이어그램(활동 다이어그램)**<br>:     업무 처리 과정이나 연산이 수행되는 과정을 표현\n",
    "* **Use case 다이어그램**<br>:     사용자 관점에서 시스템 행위를 표현한다.\n",
    "* **Sequence 다이어그램(순차 다이어그램)**<br>:     시간 흐름에 따른 객체 사이의 상호작용을 표현\n",
    "* **Communication 다이어그램(통신 다이어그램)**<br>:     객체 사이의 관계를 중심으로 상호작용을 표현한다.\n",
    "* 기타<br>:     상태 머신 다이어그램, 상호작용 개요 다이어그램, 타이핑 다이어그램"
   ]
  },
  {
   "cell_type": "markdown",
   "metadata": {},
   "source": [
    "![main_starUML](https://raw.githubusercontent.com/YeBoong/Software_Engineering/master/img/starUML_main.PNG)"
   ]
  },
  {
   "cell_type": "markdown",
   "metadata": {},
   "source": [
    "<Br>"
   ]
  },
  {
   "cell_type": "markdown",
   "metadata": {},
   "source": [
    "# 소프트웨어 개발 단계\n",
    "1. 요구분석<br>:     대표적인 산출물로 위에서 언급했던 **다이어그램**들\n",
    "2. 설계\n",
    "3. 코딩\n",
    "4. 테스트\n",
    "5. 유지보수"
   ]
  },
  {
   "cell_type": "markdown",
   "metadata": {},
   "source": [
    "<br>"
   ]
  },
  {
   "cell_type": "markdown",
   "metadata": {},
   "source": [
    "# 1.요구분석 "
   ]
  },
  {
   "cell_type": "markdown",
   "metadata": {},
   "source": [
    "## 유스케이스 다이어그램\n",
    "* 사용자가 소프트웨어에서 어떤 기능들을 수행할 수 있는지 나타낸 다이어그램\n",
    "![usecase](https://raw.githubusercontent.com/YeBoong/Software_Engineering/master/img/img_usecaseDgr.PNG)"
   ]
  },
  {
   "cell_type": "markdown",
   "metadata": {},
   "source": [
    "<br>"
   ]
  },
  {
   "cell_type": "markdown",
   "metadata": {},
   "source": [
    "## 프로젝트 계획서\n",
    "![project_plan](https://raw.githubusercontent.com/YeBoong/Software_Engineering/master/img/proj_plan.PNG)"
   ]
  },
  {
   "cell_type": "markdown",
   "metadata": {},
   "source": [
    "<br>"
   ]
  },
  {
   "cell_type": "markdown",
   "metadata": {},
   "source": [
    "## 유스케이스 다이어그램\n",
    "![shoppingMall_usecase](https://raw.githubusercontent.com/YeBoong/Software_Engineering/master/img/usecase_shopping_mall.PNG)"
   ]
  },
  {
   "cell_type": "markdown",
   "metadata": {},
   "source": [
    "<br>"
   ]
  },
  {
   "cell_type": "markdown",
   "metadata": {},
   "source": [
    "## 유스케이스 시나리오(명세서)\n",
    "![scenario](https://raw.githubusercontent.com/YeBoong/Software_Engineering/master/img/usecase_scenario.PNG)"
   ]
  },
  {
   "cell_type": "markdown",
   "metadata": {},
   "source": [
    "<br>"
   ]
  },
  {
   "cell_type": "markdown",
   "metadata": {},
   "source": [
    "## 액티비티 다이어그램 \n",
    "![activity_dgr](https://raw.githubusercontent.com/YeBoong/Software_Engineering/master/img/activity_Dgr.PNG)"
   ]
  },
  {
   "cell_type": "markdown",
   "metadata": {},
   "source": [
    "<br>"
   ]
  },
  {
   "cell_type": "markdown",
   "metadata": {},
   "source": [
    "# 2.설계\n",
    "수업에서는 소프트웨어 개발 단계 중 **요구분석**과, **설계** 과정에 집중적으로 다룰 것이다."
   ]
  },
  {
   "cell_type": "markdown",
   "metadata": {},
   "source": [
    "## 클래스 다이어그램\n",
    "* 문제나 해결책의 정적인 구조를 보여주는 중요한 다이어그램\n",
    "* 시스템을 구성하는 클래스들과 그들 간의 관계를 보여준다.\n",
    "![class_dgr](https://raw.githubusercontent.com/YeBoong/Software_Engineering/master/img/class_Dgr.PNG)"
   ]
  },
  {
   "cell_type": "markdown",
   "metadata": {},
   "source": [
    "<br>"
   ]
  },
  {
   "cell_type": "markdown",
   "metadata": {},
   "source": [
    "## 디자인 패턴 "
   ]
  },
  {
   "cell_type": "markdown",
   "metadata": {},
   "source": [
    "<br>"
   ]
  },
  {
   "cell_type": "markdown",
   "metadata": {},
   "source": [
    "## 데이터베이스 설계\n",
    "* ER 다이어그램(물리적 DB 설계)\n",
    "* SQL DDL(create table)\n",
    "* 테이블 기술서\n",
    "* 사용할 프로그램 : starUML, Oracle Datamodeler\n",
    "![starUML](https://raw.githubusercontent.com/YeBoong/Software_Engineering/master/img/DB_design_starUML.PNG)\n",
    "![oracle](https://raw.githubusercontent.com/YeBoong/Software_Engineering/master/img/DB_design_oracle.PNG)"
   ]
  },
  {
   "cell_type": "markdown",
   "metadata": {},
   "source": [
    "<br>"
   ]
  },
  {
   "cell_type": "markdown",
   "metadata": {},
   "source": [
    "### ER모델\n",
    "![ER1](https://raw.githubusercontent.com/YeBoong/Software_Engineering/master/img/ER_model.PNG)\n",
    "![ER2](https://raw.githubusercontent.com/YeBoong/Software_Engineering/master/img/ER_model2.PNG)"
   ]
  },
  {
   "cell_type": "markdown",
   "metadata": {},
   "source": [
    "<br>"
   ]
  },
  {
   "cell_type": "markdown",
   "metadata": {},
   "source": [
    "### 테이블 기술서 \n",
    "![table_description](https://raw.githubusercontent.com/YeBoong/Software_Engineering/master/img/table_description.PNG)"
   ]
  },
  {
   "cell_type": "markdown",
   "metadata": {},
   "source": [
    "<br>"
   ]
  },
  {
   "cell_type": "markdown",
   "metadata": {},
   "source": [
    "### 시스템 구조도\n",
    "![sys_structure](https://raw.githubusercontent.com/YeBoong/Software_Engineering/master/img/sys_structure_dgr.PNG)"
   ]
  },
  {
   "cell_type": "markdown",
   "metadata": {},
   "source": [
    "<br>"
   ]
  },
  {
   "cell_type": "markdown",
   "metadata": {},
   "source": [
    "## 사용자 인터페이스(UI) 설계 "
   ]
  },
  {
   "cell_type": "markdown",
   "metadata": {},
   "source": [
    "<br>"
   ]
  },
  {
   "cell_type": "markdown",
   "metadata": {},
   "source": [
    "## 시퀀스 다이어그램\n",
    "* 이벤트의 흐름\n",
    "![sequence](https://raw.githubusercontent.com/YeBoong/Software_Engineering/master/img/sequence_dgr.PNG)"
   ]
  },
  {
   "cell_type": "markdown",
   "metadata": {},
   "source": [
    "<br>"
   ]
  },
  {
   "cell_type": "markdown",
   "metadata": {},
   "source": [
    "## 커뮤니케이션 다이어그램\n",
    "![commu_dgr](https://raw.githubusercontent.com/YeBoong/Software_Engineering/master/img/commu_dgr.PNG)"
   ]
  },
  {
   "cell_type": "markdown",
   "metadata": {},
   "source": [
    "<br>"
   ]
  },
  {
   "cell_type": "markdown",
   "metadata": {},
   "source": [
    "# 3. 코딩\n",
    "* 전체 코딩을 하지 않고 필수적인 기능 3~4 개 정도만 구현해볼 것."
   ]
  },
  {
   "cell_type": "markdown",
   "metadata": {},
   "source": [
    "## 코딩 표준 체크 \n",
    "![code_standard](https://raw.githubusercontent.com/YeBoong/Software_Engineering/master/img/code_standard.PNG)"
   ]
  },
  {
   "cell_type": "markdown",
   "metadata": {},
   "source": [
    "<br>"
   ]
  },
  {
   "cell_type": "markdown",
   "metadata": {},
   "source": [
    "# 4.테스트\n",
    "* 시스템이 정해진 요구를 만족하는지, 예상과 실제 결과가 어떤 차이를 보이는지<br>수동 또는 자동으로 검사하고 평가하는 일"
   ]
  },
  {
   "cell_type": "markdown",
   "metadata": {},
   "source": [
    "<br>"
   ]
  },
  {
   "cell_type": "markdown",
   "metadata": {},
   "source": [
    "## 테스트 케이스\n",
    "![test_case](https://raw.githubusercontent.com/YeBoong/Software_Engineering/master/img/test_case.PNG)\n",
    "![test_case2](https://raw.githubusercontent.com/YeBoong/Software_Engineering/master/img/test_case2.PNG)"
   ]
  },
  {
   "cell_type": "markdown",
   "metadata": {},
   "source": [
    "<br>"
   ]
  },
  {
   "cell_type": "markdown",
   "metadata": {},
   "source": [
    "# 5. 유지보수\n",
    "* SW 설치 후 일어나는 작업\n",
    "![maintenance](https://raw.githubusercontent.com/YeBoong/Software_Engineering/master/img/maintenance.PNG)"
   ]
  },
  {
   "cell_type": "markdown",
   "metadata": {},
   "source": [
    "<br>"
   ]
  },
  {
   "cell_type": "markdown",
   "metadata": {},
   "source": [
    "## 형상관리\n",
    "* 변경 내용에 대한 철저한 관리 필요\n",
    "* SW 형상관리<br>:     소프트웨어를 이루는 부품의 baseline(변경 통제 시점)을 정하고 변경을 철저히 통제하는 것.\n",
    "* 형상 관리 요소\n",
    "    * 분석서\n",
    "    * 설계서\n",
    "    * 프로그램(원시코드, 목적코드, 명령어 파일, 자료 파일, 테스트 파일)\n",
    "    * 사용자 지침서"
   ]
  }
 ],
 "metadata": {
  "kernelspec": {
   "display_name": "Python 3",
   "language": "python",
   "name": "python3"
  },
  "language_info": {
   "codemirror_mode": {
    "name": "ipython",
    "version": 3
   },
   "file_extension": ".py",
   "mimetype": "text/x-python",
   "name": "python",
   "nbconvert_exporter": "python",
   "pygments_lexer": "ipython3",
   "version": "3.8.5"
  }
 },
 "nbformat": 4,
 "nbformat_minor": 4
}
