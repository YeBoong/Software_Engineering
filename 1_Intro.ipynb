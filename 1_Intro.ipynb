{
 "cells": [
  {
   "cell_type": "markdown",
   "metadata": {},
   "source": [
    "# 소프트웨어 공학이란?\n",
    "* 고객의 문제를 해결해 주기 위하여 **대규모**의 품질 좋은 소프트웨어 시스템을 정해진 **시간**과 **비용**으로 개발하거나 발전시키는 체계적인 프로세스(과정)"
   ]
  },
  {
   "cell_type": "markdown",
   "metadata": {},
   "source": [
    "<Br>"
   ]
  },
  {
   "cell_type": "markdown",
   "metadata": {},
   "source": [
    "# 객체지향 개념"
   ]
  },
  {
   "cell_type": "markdown",
   "metadata": {},
   "source": [
    "## 객체지향 기본 개념\n",
    "* 객체(Object)\n",
    "* 클래스(Class)\n",
    "* 메시지\n",
    "* 추상화\n",
    "* 캡슐화(Encapsulation)\n",
    "* 상속(Inheritance)\n",
    "* 다형성(Polymorphism)\n",
    "* 추상클래스와 인터페이스"
   ]
  },
  {
   "cell_type": "markdown",
   "metadata": {},
   "source": [
    "<br>"
   ]
  },
  {
   "cell_type": "markdown",
   "metadata": {},
   "source": [
    "# UML\n",
    "* 대표적인 객체지향 시스템 모델링 언어\n",
    "* http://staruml.io/"
   ]
  },
  {
   "cell_type": "markdown",
   "metadata": {},
   "source": [
    "## 구조 다이어그램\n",
    "* **클래스 다이어그램**<br>:     시스템을 구성하는 클래스들 사이의 관계 표현\n",
    "* 기타<br>:     객체 다이어그램, 복합체 구조 다이어그램, 배치 다이어그램, 컴포넌트 다이어그램, 패키지 다이어그램"
   ]
  },
  {
   "cell_type": "markdown",
   "metadata": {},
   "source": [
    "## 행위 다이어그램\n",
    "* **Activity 다이어그램(활동 다이어그램)**<br>:     업무 처리 과정이나 연산이 수행되는 과정을 표현\n",
    "* **Use case 다이어그램**<br>:     사용자 관점에서 시스템 행위를 표현한다.\n",
    "* **Sequence 다이어그램(순차 다이어그램)**<br>:     시간 흐름에 따른 객체 사이의 상호작용을 표현\n",
    "* **Communication 다이어그램(통신 다이어그램)**<br>:     객체 사이의 관계를 중심으로 상호작용을 표현한다.\n",
    "* 기타<br>:     상태 머신 다이어그램, 상호작용 개요 다이어그램, 타이핑 다이어그램"
   ]
  },
  {
   "cell_type": "markdown",
   "metadata": {},
   "source": [
    "![main_starUML](https://raw.githubusercontent.com/YeBoong/Software_Engineering/master/img/starUML_main.PNG)"
   ]
  },
  {
   "cell_type": "markdown",
   "metadata": {},
   "source": [
    "<Br>"
   ]
  },
  {
   "cell_type": "markdown",
   "metadata": {},
   "source": [
    "# 소프트웨어 개발 단계\n",
    "1. 요구분석<br>:     대표적인 산출물로 위에서 언급했던 **다이어그램**들\n",
    "2. 설계\n",
    "3. 코딩\n",
    "4. 테스트\n",
    "5. 유지보수"
   ]
  },
  {
   "cell_type": "markdown",
   "metadata": {},
   "source": [
    "<br>"
   ]
  },
  {
   "cell_type": "markdown",
   "metadata": {},
   "source": [
    "# 유스케이스 다이어그램\n",
    "* 사용자가 소프트웨어에서 어떤 기능들을 수행할 수 있는지 나타낸 다이어그램"
   ]
  }
 ],
 "metadata": {
  "kernelspec": {
   "display_name": "Python 3",
   "language": "python",
   "name": "python3"
  },
  "language_info": {
   "codemirror_mode": {
    "name": "ipython",
    "version": 3
   },
   "file_extension": ".py",
   "mimetype": "text/x-python",
   "name": "python",
   "nbconvert_exporter": "python",
   "pygments_lexer": "ipython3",
   "version": "3.8.5"
  }
 },
 "nbformat": 4,
 "nbformat_minor": 4
}
